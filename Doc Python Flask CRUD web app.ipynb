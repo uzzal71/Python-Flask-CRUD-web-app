{
 "cells": [
  {
   "cell_type": "markdown",
   "metadata": {},
   "source": [
    "# Python Flask for beginners: Build a CRUD Web app in Python"
   ]
  },
  {
   "cell_type": "markdown",
   "metadata": {},
   "source": [
    "## Section 1: Introduction and<br/>Course Structure"
   ]
  },
  {
   "cell_type": "markdown",
   "metadata": {},
   "source": [
    "### 1. Introduction and Course Structure"
   ]
  },
  {
   "cell_type": "markdown",
   "metadata": {},
   "source": [
    "#### Goals\n",
    "<ul>\n",
    "    <li>Build a web application using the Flask framework</li>\n",
    "    <li>Create, Read, Update, Delete operations</li>\n",
    "    <li>The focus will be more on the backend and not on the frontend</li>\n",
    "</ul>\n",
    "\n",
    "#### Your Instructor\n",
    "<ul>\n",
    "    <li>Uzzal Kumar Roy, Software Engineer</li>\n",
    "    <li>Instructor on Youtube with over 500 students and over 300 reviews holding an average of 4.5</li>\n",
    "</ul>"
   ]
  },
  {
   "cell_type": "markdown",
   "metadata": {},
   "source": [
    "### COURSE STRUCTURE\n",
    "<ul>\n",
    "    <li>Understanding how the web works</li>\n",
    "    <li>Install of Python, MySQL and running your first Flask application</li>\n",
    "    <li>Basic structure of a Flask application</li>\n",
    "    <li>Using the Jinja2 template engine</li>\n",
    "    <li>Adding CSS to your application using Bootstrap</li>\n",
    "    <li>Adding a MySQL database to your application</li>\n",
    "    <li>HTTP verbs and status codes</li>\n",
    "    <li>Mini project: Submit a form</li>\n",
    "    <li>Some more essentials to build an application</li>\n",
    "    <li>Final project: Build a blog application</li>\n",
    "    <li></li>\n",
    "</ul>\n",
    "\n",
    "### PREREQUISITES\n",
    "<ul>\n",
    "    <li>Basics of Python such as Variables, Data Types, Function etc</li>\n",
    "    <li>Basic knowledge of HTML, CSS</li>\n",
    "    <li>Basic knowledge of MySQL is good to have, but not mandatory</li>\n",
    "</ul>"
   ]
  },
  {
   "cell_type": "markdown",
   "metadata": {},
   "source": [
    "## Section 2: Understanding how the<br/>web works"
   ]
  },
  {
   "cell_type": "markdown",
   "metadata": {},
   "source": [
    "### 2. Interaction between the Client and<br/>Server"
   ]
  },
  {
   "cell_type": "markdown",
   "metadata": {},
   "source": [
    "#### HOW THE INTERNET WORKS\n",
    "\n",
    "<img src=\"ClientServer.png\"/>\n",
    "<pre>\n",
    "Client - Web Browser\n",
    "Server - IP Address\n",
    "</pre>"
   ]
  },
  {
   "cell_type": "markdown",
   "metadata": {},
   "source": [
    "<ul>\n",
    "    <li>www.google.com is a domain name</li>\n",
    "    <li>IP Address is a sequence of numbers. It is easier to remember a domain name than to remember an IP adderss</li>\n",
    "    <li>Every domain name is mapped to an IP address, which uniquely identifies it on the network</li>\n",
    "    <li>Internet Service Provider(ISP) does a Domain Name System(DNS) lookup to map domain name to IP address</li>\n",
    "    <li>The request is now directed to the IP address</li>\n",
    "</ul>"
   ]
  },
  {
   "cell_type": "markdown",
   "metadata": {},
   "source": [
    "##### Open your terminal\n",
    "<pre>\n",
    "infosys@infosys-HP-Notebook:~$ nslookup www.google.com\n",
    "Server:\t\t127.0.0.53\n",
    "Address:\t127.0.0.53#53\n",
    "\n",
    "Non-authoritative answer:\n",
    "Name:\twww.google.com\n",
    "Address: <span style=\"color:green\">172.217.163.196</span>\n",
    "Name:\twww.google.com\n",
    "Address: 2404:6800:4007:810::2004\n",
    "\n",
    "infosys@infosys-HP-Notebook:~$ \n",
    "</pre>"
   ]
  },
  {
   "cell_type": "markdown",
   "metadata": {},
   "source": [
    "### Open your Browser\n",
    "<pre>\n",
    "paste this ip address\n",
    "172.217.163.196\n",
    "and enter\n",
    "you see go to the google home page\n",
    "</pre>"
   ]
  },
  {
   "cell_type": "markdown",
   "metadata": {},
   "source": [
    "## Section 3: Setting up your development environment and running your first Flask Application"
   ]
  },
  {
   "cell_type": "markdown",
   "metadata": {},
   "source": [
    "### 3. Installation for Windows\n",
    "<ul>\n",
    "    <li>First install python</li>\n",
    "    <li>Text Editor - like Atom</li>\n",
    "    <li>Then install MySQL Servie OR Xampp</li>\n",
    "</ul>\n",
    "<br><br/>\n",
    "<p>\n",
    "Create a Folder in Desktop \"my-simple-project\"\n",
    "</p>\n",
    "<p>\n",
    "Create a file my-simple-project/app.py\n",
    "</p>\n",
    "### Create Virtual Env.\n",
    "<p>\n",
    "    Open your terminal: <code>cd Desktop/my-simple-project</code>\n",
    "</p>\n",
    "<code>py -m venv venv</code>\n",
    "<pre>\n",
    ">Desktop\n",
    "  -my-simple-project\n",
    "     +venv\n",
    "     -app.py\n",
    "</pre>\n",
    "\n",
    "##### Active virtual environment\n",
    "<code>Desktop/my-simple-project>venv/Scripts/activate</code>\n",
    "\n",
    "#### Install Flask\n",
    "<code>pip3 install flask</code>\n",
    "<br>\n",
    "<br>\n",
    "<br>\n",
    "\n",
    "### app.py file open\n",
    "<code>\n",
    "from flask import Flask\n",
    "    \n",
    "app = flask(_ _name_ _)\n",
    "\n",
    "@app.route('/')\n",
    "def index():\n",
    "    return \"Hello, world!\"\n",
    "\n",
    "if _ _name_ _ == '_ _main_ _':\n",
    "    app.run()\n",
    "</code>\n",
    "\n",
    "### Run This Program\n",
    "<p> Open your terminal: <code>py app.py</code> </p>\n",
    "\n",
    "### Open Browser\n",
    "<code>localhost:5000</code>"
   ]
  },
  {
   "cell_type": "markdown",
   "metadata": {},
   "source": [
    "### 4. Installation for Mac\n",
    "<ul>\n",
    "    <li>First install python</li>\n",
    "    <li>Text Editor - like Atom</li>\n",
    "    <li>Then install MySQL Servie OR Xampp</li>\n",
    "</ul>\n",
    "<br><br/>\n",
    "<p>\n",
    "Create a Folder in Desktop \"my-simple-project\"\n",
    "</p>\n",
    "<p>\n",
    "Create a file my-simple-project/app.py\n",
    "</p>\n",
    "### Create Virtual Env.\n",
    "<p>\n",
    "    Open your terminal: <code>cd Desktop/my-simple-project</code>\n",
    "</p>\n",
    "<code>python3 -m venv venv</code>\n",
    "<pre>\n",
    ">Desktop\n",
    "  -my-simple-project\n",
    "     +venv\n",
    "     -app.py\n",
    "</pre>\n",
    "\n",
    "##### Active virtual environment\n",
    "<code>Desktop/my-simple-project>source venv/bin/activate</code>\n",
    "\n",
    "#### Install Flask\n",
    "<code>pip3 install flask</code>\n",
    "<br>\n",
    "<br>\n",
    "<br>\n",
    "\n",
    "### app.py file open\n",
    "<code>\n",
    "from flask import Flask\n",
    "    \n",
    "app = flask(_ _name_ _)\n",
    "\n",
    "@app.route('/')\n",
    "def index():\n",
    "    return \"Hello, world!\"\n",
    "\n",
    "if _ _name_ _ == '_ _main_ _':\n",
    "    app.run()\n",
    "</code>\n",
    "\n",
    "### Run This Program\n",
    "<p> Open your terminal: <code>python3 app.py</code> </p>\n",
    "\n",
    "### Open Browser\n",
    "<code>localhost:5000</code>"
   ]
  },
  {
   "cell_type": "markdown",
   "metadata": {},
   "source": [
    "### 5. Installation for Linux"
   ]
  },
  {
   "cell_type": "markdown",
   "metadata": {},
   "source": [
    "### 4. Installation for Mac\n",
    "<ul>\n",
    "    <li>First install python</li>\n",
    "    <li>Text Editor - like Atom</li>\n",
    "    <li>Then install MySQL Servie OR Xampp</li>\n",
    "</ul>\n",
    "<br>\n",
    "### Python install\n",
    "<br>\n",
    "<code>sudo apt-get update</code>\n",
    "<br><br>\n",
    "<code>sudo apt-get install python3.6</code>\n",
    "<br><br>\n",
    "<code>sudo apt-get install python3-venv</code>\n",
    "\n",
    "### MySQL Install\n",
    "<br>\n",
    "<code>sudo apt-get install mysql-server</code>\n",
    "<p>\n",
    "Create a Folder in Desktop \"my-simple-project\"\n",
    "</p>\n",
    "<p>\n",
    "Create a file my-simple-project/app.py\n",
    "</p>\n",
    "### Create Virtual Env.\n",
    "<p>\n",
    "    Open your terminal: <code>cd Desktop/my-simple-project</code>\n",
    "</p>\n",
    "<code>python3 -m venv venv</code>\n",
    "<pre>\n",
    ">Desktop\n",
    "  -my-simple-project\n",
    "     +venv\n",
    "     -app.py\n",
    "</pre>\n",
    "\n",
    "##### Active virtual environment\n",
    "<code>Desktop/my-simple-project>source venv/bin/activate</code>\n",
    "\n",
    "#### Install Flask\n",
    "<code>pip3 install flask</code>\n",
    "<br>\n",
    "<br>\n",
    "<br>\n",
    "\n",
    "### app.py file open\n",
    "<code>\n",
    "from flask import Flask\n",
    "    \n",
    "app = flask(_ _name_ _)\n",
    "\n",
    "@app.route('/')\n",
    "def index():\n",
    "    return \"Hello, world!\"\n",
    "\n",
    "if _ _name_ _ == '_ _main_ _':\n",
    "    app.run()\n",
    "</code>\n",
    "\n",
    "### Run This Program\n",
    "<p> Open your terminal: <code>python3 app.py</code> </p>\n",
    "\n",
    "### Open Browser\n",
    "<code>localhost:5000</code>"
   ]
  },
  {
   "cell_type": "markdown",
   "metadata": {},
   "source": [
    "# Section 4: Basic structure of a<br/>Flask application"
   ]
  },
  {
   "cell_type": "markdown",
   "metadata": {},
   "source": [
    "### 6. Understanding app.py file\n",
    "<code>\n",
    "from flask import Flask\n",
    "\n",
    "app = Flask(__name__)\n",
    "\n",
    "@app.route('/')\n",
    "def index():\n",
    "    return \"Hi!\"\n",
    "    \n",
    "if __name__ == '__main__':\n",
    "    app.run(debug=True)\n",
    "</code>"
   ]
  },
  {
   "cell_type": "markdown",
   "metadata": {},
   "source": [
    "### 7. Adding templates to your application"
   ]
  },
  {
   "cell_type": "markdown",
   "metadata": {},
   "source": [
    "### 8. Adding images to your application"
   ]
  },
  {
   "cell_type": "code",
   "execution_count": null,
   "metadata": {},
   "outputs": [],
   "source": []
  }
 ],
 "metadata": {
  "kernelspec": {
   "display_name": "Python 3",
   "language": "python",
   "name": "python3"
  },
  "language_info": {
   "codemirror_mode": {
    "name": "ipython",
    "version": 3
   },
   "file_extension": ".py",
   "mimetype": "text/x-python",
   "name": "python",
   "nbconvert_exporter": "python",
   "pygments_lexer": "ipython3",
   "version": "3.7.1"
  }
 },
 "nbformat": 4,
 "nbformat_minor": 2
}
